{
 "cells": [
  {
   "cell_type": "code",
   "execution_count": 1,
   "metadata": {},
   "outputs": [],
   "source": [
    "import pandas as pd\n",
    "import numpy as np"
   ]
  },
  {
   "cell_type": "code",
   "execution_count": 2,
   "metadata": {},
   "outputs": [
    {
     "data": {
      "text/html": [
       "<div>\n",
       "<style scoped>\n",
       "    .dataframe tbody tr th:only-of-type {\n",
       "        vertical-align: middle;\n",
       "    }\n",
       "\n",
       "    .dataframe tbody tr th {\n",
       "        vertical-align: top;\n",
       "    }\n",
       "\n",
       "    .dataframe thead th {\n",
       "        text-align: right;\n",
       "    }\n",
       "</style>\n",
       "<table border=\"1\" class=\"dataframe\">\n",
       "  <thead>\n",
       "    <tr style=\"text-align: right;\">\n",
       "      <th></th>\n",
       "      <th>household_id</th>\n",
       "      <th>person_id</th>\n",
       "      <th>trip_id</th>\n",
       "      <th>sequential_trip_id</th>\n",
       "      <th>time_at_destination</th>\n",
       "      <th>trip_duration_minutes</th>\n",
       "      <th>num_people_on_trip</th>\n",
       "      <th>num_non_household_members_on_trip</th>\n",
       "      <th>num_household_members_on_trip</th>\n",
       "      <th>parking_cost</th>\n",
       "      <th>...</th>\n",
       "      <th>vehicle_id</th>\n",
       "      <th>vehicle_type</th>\n",
       "      <th>minutes_walked_from_parking</th>\n",
       "      <th>who_drove</th>\n",
       "      <th>who_drove_imputed</th>\n",
       "      <th>reason_for_travel</th>\n",
       "      <th>reason_for_travel_to</th>\n",
       "      <th>why_trip</th>\n",
       "      <th>trip_purpose_old_schema</th>\n",
       "      <th>worker_status</th>\n",
       "    </tr>\n",
       "  </thead>\n",
       "  <tbody>\n",
       "    <tr>\n",
       "      <th>0</th>\n",
       "      <td>9000013002</td>\n",
       "      <td>1</td>\n",
       "      <td>1</td>\n",
       "      <td>1</td>\n",
       "      <td>75</td>\n",
       "      <td>15</td>\n",
       "      <td>2</td>\n",
       "      <td>0</td>\n",
       "      <td>2</td>\n",
       "      <td>-1.0</td>\n",
       "      <td>...</td>\n",
       "      <td>NaN</td>\n",
       "      <td>SUV (Santa Fe, Tahoe, Jeep, etc.)</td>\n",
       "      <td>1 to less than 5 minutes</td>\n",
       "      <td>Person 1</td>\n",
       "      <td>Person 1</td>\n",
       "      <td>Regular activities at home</td>\n",
       "      <td>Recreational activities</td>\n",
       "      <td>Social/Recreational</td>\n",
       "      <td>Other Social/Recreational</td>\n",
       "      <td>Not worker</td>\n",
       "    </tr>\n",
       "    <tr>\n",
       "      <th>1</th>\n",
       "      <td>9000013002</td>\n",
       "      <td>1</td>\n",
       "      <td>2</td>\n",
       "      <td>2</td>\n",
       "      <td>-9</td>\n",
       "      <td>10</td>\n",
       "      <td>2</td>\n",
       "      <td>0</td>\n",
       "      <td>2</td>\n",
       "      <td>-1.0</td>\n",
       "      <td>...</td>\n",
       "      <td>NaN</td>\n",
       "      <td>SUV (Santa Fe, Tahoe, Jeep, etc.)</td>\n",
       "      <td>0 minutes/ parked in the same building</td>\n",
       "      <td>Person 1</td>\n",
       "      <td>Person 1</td>\n",
       "      <td>Recreational activities</td>\n",
       "      <td>Regular activities at home</td>\n",
       "      <td>Home</td>\n",
       "      <td>Other Social/Recreational</td>\n",
       "      <td>Not worker</td>\n",
       "    </tr>\n",
       "    <tr>\n",
       "      <th>2</th>\n",
       "      <td>9000013002</td>\n",
       "      <td>2</td>\n",
       "      <td>1</td>\n",
       "      <td>1</td>\n",
       "      <td>10</td>\n",
       "      <td>30</td>\n",
       "      <td>1</td>\n",
       "      <td>0</td>\n",
       "      <td>1</td>\n",
       "      <td>-1.0</td>\n",
       "      <td>...</td>\n",
       "      <td>NaN</td>\n",
       "      <td>SUV (Santa Fe, Tahoe, Jeep, etc.)</td>\n",
       "      <td>Valid skip</td>\n",
       "      <td>Person 2</td>\n",
       "      <td>Person 2</td>\n",
       "      <td>Regular activities at home</td>\n",
       "      <td>Buy meals</td>\n",
       "      <td>Meals</td>\n",
       "      <td>Other Social/Recreational</td>\n",
       "      <td>Worker</td>\n",
       "    </tr>\n",
       "    <tr>\n",
       "      <th>3</th>\n",
       "      <td>9000013002</td>\n",
       "      <td>2</td>\n",
       "      <td>2</td>\n",
       "      <td>2</td>\n",
       "      <td>10</td>\n",
       "      <td>10</td>\n",
       "      <td>1</td>\n",
       "      <td>0</td>\n",
       "      <td>1</td>\n",
       "      <td>-1.0</td>\n",
       "      <td>...</td>\n",
       "      <td>NaN</td>\n",
       "      <td>SUV (Santa Fe, Tahoe, Jeep, etc.)</td>\n",
       "      <td>Not ascertained</td>\n",
       "      <td>Person 2</td>\n",
       "      <td>Person 2</td>\n",
       "      <td>Buy meals</td>\n",
       "      <td>Buy meals</td>\n",
       "      <td>Meals</td>\n",
       "      <td>Other Social/Recreational</td>\n",
       "      <td>Worker</td>\n",
       "    </tr>\n",
       "    <tr>\n",
       "      <th>4</th>\n",
       "      <td>9000013002</td>\n",
       "      <td>2</td>\n",
       "      <td>3</td>\n",
       "      <td>3</td>\n",
       "      <td>-9</td>\n",
       "      <td>30</td>\n",
       "      <td>1</td>\n",
       "      <td>0</td>\n",
       "      <td>1</td>\n",
       "      <td>-1.0</td>\n",
       "      <td>...</td>\n",
       "      <td>NaN</td>\n",
       "      <td>SUV (Santa Fe, Tahoe, Jeep, etc.)</td>\n",
       "      <td>Not ascertained</td>\n",
       "      <td>Person 2</td>\n",
       "      <td>Person 2</td>\n",
       "      <td>Buy meals</td>\n",
       "      <td>Regular activities at home</td>\n",
       "      <td>Home</td>\n",
       "      <td>Other Social/Recreational</td>\n",
       "      <td>Worker</td>\n",
       "    </tr>\n",
       "  </tbody>\n",
       "</table>\n",
       "<p>5 rows × 85 columns</p>\n",
       "</div>"
      ],
      "text/plain": [
       "   household_id  person_id  trip_id  sequential_trip_id  time_at_destination  \\\n",
       "0    9000013002          1        1                   1                   75   \n",
       "1    9000013002          1        2                   2                   -9   \n",
       "2    9000013002          2        1                   1                   10   \n",
       "3    9000013002          2        2                   2                   10   \n",
       "4    9000013002          2        3                   3                   -9   \n",
       "\n",
       "   trip_duration_minutes  num_people_on_trip  \\\n",
       "0                     15                   2   \n",
       "1                     10                   2   \n",
       "2                     30                   1   \n",
       "3                     10                   1   \n",
       "4                     30                   1   \n",
       "\n",
       "   num_non_household_members_on_trip  num_household_members_on_trip  \\\n",
       "0                                  0                              2   \n",
       "1                                  0                              2   \n",
       "2                                  0                              1   \n",
       "3                                  0                              1   \n",
       "4                                  0                              1   \n",
       "\n",
       "   parking_cost  ...  vehicle_id                       vehicle_type  \\\n",
       "0          -1.0  ...         NaN  SUV (Santa Fe, Tahoe, Jeep, etc.)   \n",
       "1          -1.0  ...         NaN  SUV (Santa Fe, Tahoe, Jeep, etc.)   \n",
       "2          -1.0  ...         NaN  SUV (Santa Fe, Tahoe, Jeep, etc.)   \n",
       "3          -1.0  ...         NaN  SUV (Santa Fe, Tahoe, Jeep, etc.)   \n",
       "4          -1.0  ...         NaN  SUV (Santa Fe, Tahoe, Jeep, etc.)   \n",
       "\n",
       "              minutes_walked_from_parking  who_drove  who_drove_imputed  \\\n",
       "0                1 to less than 5 minutes   Person 1           Person 1   \n",
       "1  0 minutes/ parked in the same building   Person 1           Person 1   \n",
       "2                              Valid skip   Person 2           Person 2   \n",
       "3                         Not ascertained   Person 2           Person 2   \n",
       "4                         Not ascertained   Person 2           Person 2   \n",
       "\n",
       "            reason_for_travel        reason_for_travel_to  \\\n",
       "0  Regular activities at home     Recreational activities   \n",
       "1     Recreational activities  Regular activities at home   \n",
       "2  Regular activities at home                   Buy meals   \n",
       "3                   Buy meals                   Buy meals   \n",
       "4                   Buy meals  Regular activities at home   \n",
       "\n",
       "              why_trip    trip_purpose_old_schema  worker_status  \n",
       "0  Social/Recreational  Other Social/Recreational     Not worker  \n",
       "1                 Home  Other Social/Recreational     Not worker  \n",
       "2                Meals  Other Social/Recreational         Worker  \n",
       "3                Meals  Other Social/Recreational         Worker  \n",
       "4                 Home  Other Social/Recreational         Worker  \n",
       "\n",
       "[5 rows x 85 columns]"
      ]
     },
     "execution_count": 2,
     "metadata": {},
     "output_type": "execute_result"
    }
   ],
   "source": [
    "df = pd.read_csv('data/clean/trip.csv')\n",
    "df.head()"
   ]
  },
  {
   "cell_type": "code",
   "execution_count": 3,
   "metadata": {},
   "outputs": [
    {
     "data": {
      "text/plain": [
       "Index(['household_id', 'person_id', 'trip_id', 'sequential_trip_id',\n",
       "       'time_at_destination', 'trip_duration_minutes', 'num_people_on_trip',\n",
       "       'num_non_household_members_on_trip', 'num_household_members_on_trip',\n",
       "       'parking_cost', 'trip_miles', 'trip_weight_7_day', 'trip_weight_5_day',\n",
       "       'trip_weight_2_day', 'trip_case_id', 'vehicle_miles_traveled',\n",
       "       'gas_price_at_travel_time', 'num_adults_in_household',\n",
       "       'num_drivers_in_household', 'household_size',\n",
       "       'num_vehicles_in_household', 'travel_day_date', 'WRKCOUNT',\n",
       "       'household_stratum_id', 'respondent_age', 'household_grouping',\n",
       "       'census_division', 'census_region', 'DRIVER', 'driver_flag',\n",
       "       'education_level', 'end_trip_time', 'started_travel_at_home',\n",
       "       'household_income', 'household_income_imputed', 'drove_on_trip',\n",
       "       'hispanic', 'race', 'own_or_rent_home', 'LIF_CYC', 'loop_trip',\n",
       "       'metro_area_category', 'metro_area_size', 'person_1_on_trip',\n",
       "       'person_10_on_trip', 'person_2_on_trip', 'person_3_on_trip',\n",
       "       'person_4_on_trip', 'person_5_on_trip', 'person_6_on_trip',\n",
       "       'person_7_on_trip', 'person_8_on_trip', 'person_9_on_trip',\n",
       "       'paid_for_parking_travel_day', 'paid_for_parking_trip',\n",
       "       'parking_payment_periodicity', 'primary_activity_not_work',\n",
       "       'proxy_respondent', 'PSGR_FLG', 'public_transit_used_on_trip',\n",
       "       'metro_rail_status', 'respondent_hispanic', 'respondent_race',\n",
       "       'respondent_sex', 'respondent_sex_imputed', 'start_trip_time',\n",
       "       'weekend_trip', 'travel_day_of_week', 'trip_purpose',\n",
       "       'vehicle_used_on_trip', 'trip_mode', 'household_urban_classification',\n",
       "       'household_urban_size', 'household_urban_rural', 'vehicle_case_id',\n",
       "       'vehicle_id', 'vehicle_type', 'minutes_walked_from_parking',\n",
       "       'who_drove', 'who_drove_imputed', 'reason_for_travel',\n",
       "       'reason_for_travel_to', 'why_trip', 'trip_purpose_old_schema',\n",
       "       'worker_status'],\n",
       "      dtype='object')"
      ]
     },
     "execution_count": 3,
     "metadata": {},
     "output_type": "execute_result"
    }
   ],
   "source": [
    "df.columns"
   ]
  },
  {
   "cell_type": "code",
   "execution_count": 4,
   "metadata": {},
   "outputs": [
    {
     "data": {
      "text/plain": [
       "vehicle_miles_traveled\n",
       "-1.000000     10584\n",
       " 0.000000        14\n",
       " 2.058421        11\n",
       " 0.937228         9\n",
       " 1.376631         9\n",
       "              ...  \n",
       " 7.525792         1\n",
       " 4.882536         1\n",
       " 7.469857         1\n",
       " 20.970168        1\n",
       " 0.257303         1\n",
       "Name: count, Length: 13760, dtype: int64"
      ]
     },
     "execution_count": 4,
     "metadata": {},
     "output_type": "execute_result"
    }
   ],
   "source": [
    "df['vehicle_miles_traveled'].value_counts()"
   ]
  },
  {
   "cell_type": "markdown",
   "metadata": {},
   "source": [
    "Dataset preparation"
   ]
  },
  {
   "cell_type": "code",
   "execution_count": 15,
   "metadata": {},
   "outputs": [],
   "source": [
    "from sklearn.model_selection import train_test_split\n",
    "from sklearn.preprocessing import LabelEncoder\n",
    "\n",
    "columns_to_keep = ['time_at_destination', 'trip_duration_minutes', 'num_people_on_trip',\n",
    "                   'num_non_household_members_on_trip', 'num_household_members_on_trip',\n",
    "                   'trip_miles', 'num_adults_in_household',\n",
    "                   'num_drivers_in_household', 'household_size',\n",
    "                   'num_vehicles_in_household', 'WRKCOUNT',\n",
    "                   'respondent_age', 'DRIVER',\n",
    "                   'education_level', 'started_travel_at_home',\n",
    "                   'own_or_rent_home', 'LIF_CYC', 'loop_trip',\n",
    "                   'respondent_sex_imputed', 'weekend_trip', 'vehicle_used_on_trip', \n",
    "                   'trip_mode', 'trip_purpose']\n",
    "\n",
    "df1 = df[columns_to_keep]\n",
    "\n",
    "X = df1.iloc[:, 0:-1]\n",
    "y = df1.iloc[:, -1]\n",
    "\n",
    "X = pd.get_dummies(X)\n",
    "\n",
    "label_encoder = LabelEncoder()\n",
    "y = label_encoder.fit_transform(y)\n",
    "\n",
    "X_train, X_test, y_train, y_test = train_test_split(X, y, test_size=0.2, random_state=42)"
   ]
  },
  {
   "cell_type": "code",
   "execution_count": 36,
   "metadata": {},
   "outputs": [
    {
     "data": {
      "text/plain": [
       "(array([7714.,    0., 6884.,    0., 4546.,    0., 4871.,    0., 7035.,\n",
       "          24.]),\n",
       " array([0. , 0.5, 1. , 1.5, 2. , 2.5, 3. , 3.5, 4. , 4.5, 5. ]),\n",
       " <BarContainer object of 10 artists>)"
      ]
     },
     "execution_count": 36,
     "metadata": {},
     "output_type": "execute_result"
    },
    {
     "data": {
      "image/png": "[encoded data removed]",
      "text/plain": [
       "<Figure size 640x480 with 1 Axes>"
      ]
     },
     "metadata": {},
     "output_type": "display_data"
    }
   ],
   "source": [
    "import matplotlib.pyplot as plt\n",
    "plt.hist(y)"
   ]
  },
  {
   "cell_type": "markdown",
   "metadata": {},
   "source": [
    "Try random forest"
   ]
  },
  {
   "cell_type": "code",
   "execution_count": 24,
   "metadata": {},
   "outputs": [
    {
     "name": "stdout",
     "output_type": "stream",
     "text": [
      "Cross-Validation Results:\n",
      "Accuracy: 0.59 (+/- 0.01)\n",
      "Classification Report:\n",
      "              precision    recall  f1-score   support\n",
      "\n",
      "           0       0.62      0.61      0.61      1482\n",
      "           1       0.56      0.60      0.58      1378\n",
      "           2       0.67      0.49      0.57       917\n",
      "           3       0.67      0.77      0.72       978\n",
      "           4       0.57      0.58      0.57      1453\n",
      "           5       1.00      0.29      0.44         7\n",
      "\n",
      "    accuracy                           0.61      6215\n",
      "   macro avg       0.68      0.56      0.58      6215\n",
      "weighted avg       0.61      0.61      0.61      6215\n",
      "\n"
     ]
    }
   ],
   "source": [
    "from sklearn.ensemble import RandomForestClassifier\n",
    "from sklearn.metrics import classification_report\n",
    "from sklearn.model_selection import cross_val_score, StratifiedKFold\n",
    "\n",
    "# Build the Random Forest model\n",
    "model = RandomForestClassifier(n_estimators=100, max_depth=30, random_state=42)\n",
    "\n",
    "# Perform cross-validation with stratified sampling\n",
    "cv = StratifiedKFold(n_splits=5, random_state=42, shuffle=True)\n",
    "scores = cross_val_score(model, X_train, y_train, cv=cv, scoring='accuracy')\n",
    "\n",
    "print(\"Cross-Validation Results:\")\n",
    "print(\"Accuracy: {:.2f} (+/- {:.2f})\".format(scores.mean(), scores.std() * 2))\n",
    "\n",
    "# Fit and make predictions on the test set\n",
    "model.fit(X_train, y_train)\n",
    "y_pred = model.predict(X_test)\n",
    "\n",
    "# Print the classification report and cross-validation results\n",
    "print(\"Classification Report:\")\n",
    "print(classification_report(y_test, y_pred))"
   ]
  },
  {
   "cell_type": "code",
   "execution_count": 27,
   "metadata": {},
   "outputs": [
    {
     "name": "stdout",
     "output_type": "stream",
     "text": [
      "Classification Report:\n",
      "              precision    recall  f1-score   support\n",
      "\n",
      "           0       0.56      0.57      0.57      1482\n",
      "           1       0.54      0.55      0.55      1378\n",
      "           2       0.53      0.49      0.51       917\n",
      "           3       0.61      0.66      0.63       978\n",
      "           4       0.55      0.53      0.54      1453\n",
      "           5       0.33      0.43      0.38         7\n",
      "\n",
      "    accuracy                           0.56      6215\n",
      "   macro avg       0.52      0.54      0.53      6215\n",
      "weighted avg       0.56      0.56      0.56      6215\n",
      "\n"
     ]
    }
   ],
   "source": [
    "from sklearn.ensemble import GradientBoostingClassifier\n",
    "\n",
    "# Build the Gradient Boosting model\n",
    "model_gb = GradientBoostingClassifier(n_estimators=100, max_depth=30, random_state=42)\n",
    "\n",
    "# Perform cross-validation with stratified sampling\n",
    "# cv = StratifiedKFold(n_splits=5, random_state=42, shuffle=True)\n",
    "# scores = cross_val_score(model_gb, X_train, y_train, cv=cv, scoring='accuracy')\n",
    "\n",
    "# print(\"Cross-Validation Results:\")\n",
    "# print(\"Accuracy: {:.2f} (+/- {:.2f})\".format(scores.mean(), scores.std() * 2))\n",
    "\n",
    "# Fit and make predictions on the test set\n",
    "model_gb.fit(X_train, y_train)\n",
    "y_pred = model_gb.predict(X_test)\n",
    "\n",
    "# Print the classification report and cross-validation results\n",
    "print(\"Classification Report:\")\n",
    "print(classification_report(y_test, y_pred))"
   ]
  },
  {
   "cell_type": "markdown",
   "metadata": {},
   "source": [
    "Hyper parameter tuning for xgboost"
   ]
  },
  {
   "cell_type": "code",
   "execution_count": 35,
   "metadata": {},
   "outputs": [
    {
     "name": "stdout",
     "output_type": "stream",
     "text": [
      "Classification Report:\n",
      "              precision    recall  f1-score   support\n",
      "\n",
      "           0       0.65      0.61      0.63      1482\n",
      "           1       0.60      0.62      0.61      1378\n",
      "           2       0.67      0.52      0.59       917\n",
      "           3       0.68      0.79      0.73       978\n",
      "           4       0.59      0.63      0.61      1453\n",
      "           5       1.00      0.29      0.44         7\n",
      "\n",
      "    accuracy                           0.63      6215\n",
      "   macro avg       0.70      0.58      0.60      6215\n",
      "weighted avg       0.63      0.63      0.63      6215\n",
      "\n"
     ]
    }
   ],
   "source": [
    "import xgboost as xgb\n",
    "from sklearn.model_selection import GridSearchCV, RandomizedSearchCV\n",
    "from sklearn.metrics import classification_report\n",
    "\n",
    "# Define parameter grid\n",
    "param_grid = {\n",
    "    'max_depth': [3, 6, 9],\n",
    "    'learning_rate': [0.1, 0.01, 0.001],\n",
    "    'n_estimators': [100, 200, 300],\n",
    "    'gamma': [0, 0.1, 0.2],\n",
    "    'subsample': [0.6, 0.8, 1.0],\n",
    "    'colsample_bytree': [0.6, 0.8, 1.0],\n",
    "}\n",
    "\n",
    "# Initialize XGBoost classifier\n",
    "model = xgb.XGBClassifier()\n",
    "\n",
    "# Perform Grid Search\n",
    "grid_search = RandomizedSearchCV(estimator=model, param_distributions=param_grid, n_iter=20, scoring='accuracy', cv=3)\n",
    "grid_search.fit(X_train, y_train)\n",
    "\n",
    "# Get the best parameters\n",
    "best_params = grid_search.best_params_\n",
    "\n",
    "# Train the model with best parameters\n",
    "best_model = xgb.XGBClassifier(**best_params)\n",
    "best_model.fit(X_train, y_train)\n",
    "\n",
    "# Make predictions\n",
    "y_pred = best_model.predict(X_test)\n",
    "\n",
    "# Print the classification report\n",
    "print(\"Classification Report:\")\n",
    "print(classification_report(y_test, y_pred))\n"
   ]
  },
  {
   "cell_type": "code",
   "execution_count": 37,
   "metadata": {},
   "outputs": [
    {
     "data": {
      "text/plain": [
       "{'subsample': 0.6,\n",
       " 'n_estimators': 300,\n",
       " 'max_depth': 9,\n",
       " 'learning_rate': 0.1,\n",
       " 'gamma': 0,\n",
       " 'colsample_bytree': 1.0}"
      ]
     },
     "execution_count": 37,
     "metadata": {},
     "output_type": "execute_result"
    }
   ],
   "source": [
    "best_params"
   ]
  }
 ],
 "metadata": {
  "kernelspec": {
   "display_name": "Python 3",
   "language": "python",
   "name": "python3"
  },
  "language_info": {
   "codemirror_mode": {
    "name": "ipython",
    "version": 3
   },
   "file_extension": ".py",
   "mimetype": "text/x-python",
   "name": "python",
   "nbconvert_exporter": "python",
   "pygments_lexer": "ipython3",
   "version": "3.9.13"
  }
 },
 "nbformat": 4,
 "nbformat_minor": 2
}
