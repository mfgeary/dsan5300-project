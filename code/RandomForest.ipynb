{
  "cells": [
    {
      "cell_type": "raw",
      "metadata": {},
      "source": [
        "---\n",
        "title: \"Data Modelling DSAN5300 Final Project\"\n",
        "format: html\n",
        "---"
      ],
      "id": "c5771108"
    },
    {
      "cell_type": "code",
      "metadata": {},
      "source": [
        "import pandas as pd\n",
        "import numpy as np\n",
        "from tensorflow import keras\n",
        "from tensorflow.keras import layers\n",
        "import matplotlib.pyplot as plt\n",
        "from sklearn.metrics import confusion_matrix, ConfusionMatrixDisplay\n",
        "from sklearn.preprocessing import LabelEncoder, MinMaxScaler\n",
        "from sklearn.model_selection import train_test_split\n",
        "from sklearn.ensemble import RandomForestClassifier\n",
        "from sklearn.model_selection import GridSearchCV\n",
        "from sklearn.preprocessing import OneHotEncoder\n",
        "from sklearn.compose import ColumnTransformer\n",
        "from sklearn.pipeline import Pipeline"
      ],
      "id": "7c39c443",
      "execution_count": null,
      "outputs": []
    },
    {
      "cell_type": "markdown",
      "metadata": {},
      "source": [
        "## MODEL 1 - Target is 'Count of Household Trips'\n",
        "\n",
        "### Initial Cleaning"
      ],
      "id": "cec08edc"
    },
    {
      "cell_type": "code",
      "metadata": {},
      "source": [
        "household = pd.read_csv(r\"C:\\Users\\varun\\Documents\\DSAN @ GU\\5300-project-group-6\\data\\clean\\household.csv\")\n",
        "household[\"travel_day_date\"] = pd.to_datetime(household[\"travel_day_date\"])\n",
        "\n",
        "label_encoder = LabelEncoder()\n",
        "scaler = MinMaxScaler()\n",
        "for col in household.columns.drop('count_household_trips'):\n",
        "  if household[col].dtype == object:\n",
        "    household[col] = label_encoder.fit_transform(household[col])\n",
        "  else: # Normalize\n",
        "    household[col] = scaler.fit_transform(household[col].values.reshape(-1, 1))\n",
        "\n",
        "\n",
        "target = household[\"count_household_trips\"].to_numpy()\n",
        "features = household.drop('count_household_trips', axis=1).to_numpy()\n",
        "\n",
        "x_train, x_test, y_train, y_test = train_test_split(features, target, test_size=0.2)\n",
        "print(x_train.shape)\n",
        "print(x_test.shape)\n",
        "print(y_train.shape)\n",
        "print(y_test.shape)"
      ],
      "id": "5f2ae53a",
      "execution_count": null,
      "outputs": []
    },
    {
      "cell_type": "markdown",
      "metadata": {},
      "source": [
        "### Hyperparameter Tuning\n",
        "The results suggest that the best parameters are :\n",
        "{'max_depth': 7, 'min_samples_split': 3, 'n_estimators': 200}\n"
      ],
      "id": "72b03540"
    },
    {
      "cell_type": "code",
      "metadata": {},
      "source": [
        "param_grid = {\n",
        "    'n_estimators': [50, 100, 200],\n",
        "    'max_depth': list(range(1,11)),\n",
        "    'min_samples_split': list(range(2,11))\n",
        "}\n",
        "rf = RandomForestClassifier()\n",
        "grid_search = GridSearchCV(estimator=rf, param_grid=param_grid, cv=5, scoring='accuracy')\n",
        "grid_search.fit(x_train, y_train)\n",
        "best_params = grid_search.best_params_"
      ],
      "id": "59358221",
      "execution_count": null,
      "outputs": []
    },
    {
      "cell_type": "code",
      "metadata": {},
      "source": [
        "print(best_params)"
      ],
      "id": "0cdca8d4",
      "execution_count": null,
      "outputs": []
    },
    {
      "cell_type": "markdown",
      "metadata": {},
      "source": [
        "### Training the model and evaluating it"
      ],
      "id": "fbb2d573"
    },
    {
      "cell_type": "code",
      "metadata": {},
      "source": [
        "rf = RandomForestClassifier(max_depth=7,min_samples_split=3,n_estimators=200)\n",
        "rf.fit(x_train, y_train)\n",
        "# Evaluate model\n",
        "train_accuracy = rf.score(x_train, y_train)\n",
        "test_accuracy = rf.score(x_test, y_test)\n",
        "print(\"Training Accuracy:\", train_accuracy)\n",
        "print(\"Testing Accuracy:\", test_accuracy)"
      ],
      "id": "e89266e5",
      "execution_count": null,
      "outputs": []
    },
    {
      "cell_type": "markdown",
      "metadata": {},
      "source": [
        "## Model 2 - Target is 'Purpose of Trips'\n"
      ],
      "id": "2daf7e89"
    },
    {
      "cell_type": "code",
      "metadata": {},
      "source": [
        "trips = pd.read_csv(r\"C:\\Users\\varun\\Documents\\DSAN @ GU\\5300-project-group-6\\data\\clean\\trip.csv\")\n",
        "trips.info()"
      ],
      "id": "3a5c3932",
      "execution_count": null,
      "outputs": []
    },
    {
      "cell_type": "code",
      "metadata": {},
      "source": [
        "trips['trip_purpose'].value_counts()"
      ],
      "id": "672c5f19",
      "execution_count": null,
      "outputs": []
    },
    {
      "cell_type": "code",
      "metadata": {},
      "source": [
        "X = trips.drop(['trip_purpose','household_id','person_id','trip_id','sequential_trip_id','household_stratum_id','vehicle_case_id','vehicle_id','why_trip','reason_for_travel_to','trip_purpose_old_schema'], axis=1)\n",
        "y = trips['trip_purpose']"
      ],
      "id": "7e9008f3",
      "execution_count": null,
      "outputs": []
    },
    {
      "cell_type": "code",
      "metadata": {},
      "source": [
        "categorical_cols = X.select_dtypes(include=['object']).columns\n",
        "one_hot_encoded = pd.get_dummies(X, columns=categorical_cols)"
      ],
      "id": "e9ab58aa",
      "execution_count": null,
      "outputs": []
    },
    {
      "cell_type": "markdown",
      "metadata": {},
      "source": [
        "# Split the data into training and testing sets"
      ],
      "id": "d851e645"
    },
    {
      "cell_type": "code",
      "metadata": {},
      "source": [
        "X_train, X_test, y_train, y_test = train_test_split(one_hot_encoded, y, test_size=0.2, random_state=42)"
      ],
      "id": "672b2528",
      "execution_count": null,
      "outputs": []
    },
    {
      "cell_type": "markdown",
      "metadata": {},
      "source": [
        "# Hyperparam tuning "
      ],
      "id": "4d5ffdea"
    },
    {
      "cell_type": "code",
      "metadata": {},
      "source": [
        "param_grid = {\n",
        "    'n_estimators': [50, 100],\n",
        "    'max_depth': list(range(1,4)),\n",
        "    'min_samples_split': list(range(2,6))\n",
        "}\n",
        "rf = RandomForestClassifier()\n",
        "grid_search = GridSearchCV(estimator=rf, param_grid=param_grid, cv=5, scoring='accuracy')\n",
        "grid_search.fit(X_train, y_train)\n",
        "best_params = grid_search.best_params_"
      ],
      "id": "522a9c2a",
      "execution_count": null,
      "outputs": []
    },
    {
      "cell_type": "code",
      "metadata": {},
      "source": [
        "print(f\"Best params: {best_params}\")"
      ],
      "id": "86207009",
      "execution_count": null,
      "outputs": []
    },
    {
      "cell_type": "markdown",
      "metadata": {},
      "source": [
        "# Define the Random Forest classifier"
      ],
      "id": "262673aa"
    },
    {
      "cell_type": "code",
      "metadata": {},
      "source": [
        "rf = RandomForestClassifier(max_depth=8,min_samples_split=3,n_estimators=100)\n",
        "rf.fit(X_train, y_train)\n",
        "\n",
        "# Evaluate the model\n",
        "train_accuracy = rf.score(X_train, y_train)\n",
        "test_accuracy = rf.score(X_test, y_test)\n",
        "print(\"Training Accuracy:\", train_accuracy)\n",
        "print(\"Testing Accuracy:\", test_accuracy)"
      ],
      "id": "35e7c9ee",
      "execution_count": null,
      "outputs": []
    },
    {
      "cell_type": "code",
      "metadata": {},
      "source": [
        "import matplotlib.pyplot as plt\n",
        "\n",
        "# Initialize lists to store max depth and testing accuracies\n",
        "max_depth_values = []\n",
        "test_accuracies = []\n",
        "\n",
        "# Iterate over different max depth values\n",
        "for max_depth in range(1, 15):\n",
        "    # Initialize the random forest classifier with the current max depth\n",
        "    rf = RandomForestClassifier(max_depth=max_depth, min_samples_split=3, n_estimators=100)\n",
        "    \n",
        "    # Fit the model\n",
        "    rf.fit(X_train, y_train)\n",
        "    \n",
        "    # Evaluate the model on the test set\n",
        "    test_accuracy = rf.score(X_test, y_test)\n",
        "    \n",
        "    # Append max depth and corresponding test accuracy to the lists\n",
        "    max_depth_values.append(max_depth)\n",
        "    test_accuracies.append(test_accuracy)\n",
        "\n",
        "# Plotting the results\n",
        "plt.figure(figsize=(10, 6))\n",
        "plt.plot(max_depth_values, test_accuracies, marker='o')\n",
        "plt.title('Testing Accuracy vs. Max Depth')\n",
        "plt.xlabel('Max Depth')\n",
        "plt.ylabel('Testing Accuracy')\n",
        "plt.xticks(max_depth_values)\n",
        "plt.grid(True)\n",
        "plt.show()"
      ],
      "id": "67f8a0dc",
      "execution_count": null,
      "outputs": []
    },
    {
      "cell_type": "markdown",
      "metadata": {},
      "source": [
        "### Feature Importnce plot"
      ],
      "id": "ec0b36de"
    },
    {
      "cell_type": "code",
      "metadata": {},
      "source": [
        "def plot_feature_importances(model, feature_names):\n",
        "    n_features = len(feature_names)\n",
        "    plt.figure(figsize=(10, 6))  \n",
        "    plt.barh(range(n_features), model.feature_importances_, align='center')\n",
        "    plt.yticks(range(n_features), feature_names)\n",
        "    plt.xlabel(\"Feature importance\")\n",
        "    plt.ylabel(\"Feature\")\n",
        "    plt.show()\n",
        "\n",
        "plot_feature_importances(rf,X_train.columns)"
      ],
      "id": "3a8a7ad9",
      "execution_count": null,
      "outputs": []
    },
    {
      "cell_type": "markdown",
      "metadata": {},
      "source": [
        "### Sample Decision Tree\n"
      ],
      "id": "d80a11c1"
    },
    {
      "cell_type": "code",
      "metadata": {},
      "source": [
        "from sklearn.tree import plot_tree\n",
        "plt.figure(figsize=(20,10))\n",
        "plot_tree(rf.estimators_[0], filled=True, feature_names=X_train.columns)\n",
        "plt.show()"
      ],
      "id": "cc961feb",
      "execution_count": null,
      "outputs": []
    }
  ],
  "metadata": {
    "kernelspec": {
      "name": "python3",
      "language": "python",
      "display_name": "Python 3 (ipykernel)"
    }
  },
  "nbformat": 4,
  "nbformat_minor": 5
}